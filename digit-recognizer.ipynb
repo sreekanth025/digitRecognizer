{
 "cells": [
  {
   "cell_type": "code",
   "execution_count": 1,
   "metadata": {
    "_cell_guid": "b1076dfc-b9ad-4769-8c92-a6c4dae69d19",
    "_uuid": "8f2839f25d086af736a60e9eeb907d3b93b6e0e5"
   },
   "outputs": [
    {
     "name": "stderr",
     "output_type": "stream",
     "text": [
      "Using TensorFlow backend.\n"
     ]
    }
   ],
   "source": [
    "import pandas as pd\n",
    "import numpy as np\n",
    "from keras.models import Sequential\n",
    "from keras.layers import Dense, Conv2D, Flatten, Dropout, MaxPool2D, BatchNormalization\n",
    "from keras.utils import to_categorical\n",
    "from keras.optimizers import RMSprop"
   ]
  },
  {
   "cell_type": "code",
   "execution_count": 2,
   "metadata": {
    "_cell_guid": "79c7e3d0-c299-4dcb-8224-4455121ee9b0",
    "_uuid": "d629ff2d2480ee46fbb7e2d37f6b5fab8052498a"
   },
   "outputs": [],
   "source": [
    "train_df = pd.read_csv(\"../input/train.csv\")\n",
    "test_df = pd.read_csv(\"../input/test.csv\")\n",
    "\n",
    "train_data = train_df.drop(['label'], axis = 1)\n",
    "train_target = train_df['label']\n",
    "\n",
    "train_data = train_data.values.reshape(-1,28,28,1)\n",
    "test_data = test_df.values.reshape(-1,28,28,1)\n",
    "\n",
    "train_target = to_categorical(train_target)"
   ]
  },
  {
   "cell_type": "code",
   "execution_count": 3,
   "metadata": {},
   "outputs": [
    {
     "name": "stdout",
     "output_type": "stream",
     "text": [
      "WARNING:tensorflow:From /opt/conda/lib/python3.6/site-packages/tensorflow/python/framework/op_def_library.py:263: colocate_with (from tensorflow.python.framework.ops) is deprecated and will be removed in a future version.\n",
      "Instructions for updating:\n",
      "Colocations handled automatically by placer.\n",
      "WARNING:tensorflow:From /opt/conda/lib/python3.6/site-packages/keras/backend/tensorflow_backend.py:3445: calling dropout (from tensorflow.python.ops.nn_ops) with keep_prob is deprecated and will be removed in a future version.\n",
      "Instructions for updating:\n",
      "Please use `rate` instead of `keep_prob`. Rate should be set to `rate = 1 - keep_prob`.\n"
     ]
    }
   ],
   "source": [
    "model = Sequential()\n",
    "model.add(Conv2D(64, kernel_size = 3, activation = 'relu', padding = 'same', input_shape = (28,28,1)))\n",
    "model.add(BatchNormalization())\n",
    "model.add(Conv2D(64, kernel_size = 3, activation = 'relu', padding = 'same'))\n",
    "model.add(BatchNormalization())\n",
    "model.add(MaxPool2D(pool_size = 2))\n",
    "model.add(Dropout(0.25))\n",
    "\n",
    "model.add(Conv2D(128, kernel_size = 3, activation = 'relu', padding = 'same'))\n",
    "model.add(BatchNormalization())\n",
    "model.add(Conv2D(128, kernel_size = 3, activation = 'relu', padding = 'same'))\n",
    "model.add(BatchNormalization())\n",
    "model.add(MaxPool2D(pool_size = 2))\n",
    "model.add(Dropout(0.25))\n",
    "\n",
    "model.add(Conv2D(256, kernel_size = 3, activation = 'relu', padding = 'same'))\n",
    "model.add(BatchNormalization())\n",
    "model.add(Conv2D(256, kernel_size = 3, activation = 'relu', padding = 'same'))\n",
    "model.add(BatchNormalization())\n",
    "model.add(MaxPool2D(pool_size = 2))\n",
    "model.add(Dropout(0.25))\n",
    "\n",
    "model.add(Conv2D(512, kernel_size = 3, activation = 'relu', padding = 'same'))\n",
    "model.add(BatchNormalization())\n",
    "model.add(Conv2D(512, kernel_size = 3, activation = 'relu', padding = 'same'))\n",
    "model.add(BatchNormalization())\n",
    "model.add(MaxPool2D(pool_size = 2))\n",
    "model.add(Dropout(0.25))\n",
    "\n",
    "model.add(Flatten())\n",
    "model.add(Dense(512, activation = 'relu'))\n",
    "model.add(BatchNormalization())\n",
    "model.add(Dropout(0.5))\n",
    "model.add(Dense(10, activation = 'softmax'))"
   ]
  },
  {
   "cell_type": "code",
   "execution_count": 4,
   "metadata": {},
   "outputs": [],
   "source": [
    "optimizer = RMSprop(lr=0.001, rho=0.9, epsilon=1e-08, decay=0.0)\n",
    "\n",
    "model.compile(optimizer = optimizer, loss = 'categorical_crossentropy', metrics = ['accuracy'])\n",
    "\n",
    "from keras.callbacks import ReduceLROnPlateau\n",
    "learning_rate_reduction = ReduceLROnPlateau(monitor='val_acc', \n",
    "                                            patience=3, \n",
    "                                            verbose=1, \n",
    "                                            factor=0.6, \n",
    "                                            min_lr=0.00001)"
   ]
  },
  {
   "cell_type": "code",
   "execution_count": 5,
   "metadata": {},
   "outputs": [
    {
     "name": "stdout",
     "output_type": "stream",
     "text": [
      "WARNING:tensorflow:From /opt/conda/lib/python3.6/site-packages/tensorflow/python/ops/math_ops.py:3066: to_int32 (from tensorflow.python.ops.math_ops) is deprecated and will be removed in a future version.\n",
      "Instructions for updating:\n",
      "Use tf.cast instead.\n",
      "Train on 35700 samples, validate on 6300 samples\n",
      "Epoch 1/40\n",
      "35700/35700 [==============================] - 24s 680us/step - loss: 0.2367 - acc: 0.9318 - val_loss: 0.0842 - val_acc: 0.9802\n",
      "Epoch 2/40\n",
      "35700/35700 [==============================] - 20s 560us/step - loss: 0.0793 - acc: 0.9792 - val_loss: 0.0510 - val_acc: 0.9876\n",
      "Epoch 3/40\n",
      "35700/35700 [==============================] - 20s 574us/step - loss: 0.0617 - acc: 0.9849 - val_loss: 0.0433 - val_acc: 0.9908\n",
      "Epoch 4/40\n",
      "35700/35700 [==============================] - 20s 554us/step - loss: 0.0552 - acc: 0.9868 - val_loss: 0.0709 - val_acc: 0.9849\n",
      "Epoch 5/40\n",
      "35700/35700 [==============================] - 20s 554us/step - loss: 0.0430 - acc: 0.9898 - val_loss: 0.0476 - val_acc: 0.9897\n",
      "Epoch 6/40\n",
      "35700/35700 [==============================] - 20s 552us/step - loss: 0.0398 - acc: 0.9910 - val_loss: 0.0404 - val_acc: 0.9924\n",
      "Epoch 7/40\n",
      "35700/35700 [==============================] - 20s 566us/step - loss: 0.0370 - acc: 0.9920 - val_loss: 0.0531 - val_acc: 0.9917\n",
      "Epoch 8/40\n",
      "35700/35700 [==============================] - 20s 554us/step - loss: 0.0306 - acc: 0.9929 - val_loss: 0.0437 - val_acc: 0.9929\n",
      "Epoch 9/40\n",
      "35700/35700 [==============================] - 20s 552us/step - loss: 0.0294 - acc: 0.9936 - val_loss: 0.0416 - val_acc: 0.9938\n",
      "Epoch 10/40\n",
      "35700/35700 [==============================] - 20s 549us/step - loss: 0.0306 - acc: 0.9944 - val_loss: 0.0437 - val_acc: 0.9930\n",
      "Epoch 11/40\n",
      "35700/35700 [==============================] - 20s 565us/step - loss: 0.0277 - acc: 0.9945 - val_loss: 0.0408 - val_acc: 0.9944\n",
      "Epoch 12/40\n",
      "35700/35700 [==============================] - 20s 549us/step - loss: 0.0229 - acc: 0.9955 - val_loss: 0.0496 - val_acc: 0.9940\n",
      "Epoch 13/40\n",
      "35700/35700 [==============================] - 20s 552us/step - loss: 0.0195 - acc: 0.9962 - val_loss: 0.0465 - val_acc: 0.9932\n",
      "Epoch 14/40\n",
      "35700/35700 [==============================] - 20s 562us/step - loss: 0.0269 - acc: 0.9955 - val_loss: 0.0501 - val_acc: 0.9932\n",
      "\n",
      "Epoch 00014: ReduceLROnPlateau reducing learning rate to 0.0006000000284984708.\n",
      "Epoch 15/40\n",
      "35700/35700 [==============================] - 20s 566us/step - loss: 0.0160 - acc: 0.9973 - val_loss: 0.0543 - val_acc: 0.9933\n",
      "Epoch 16/40\n",
      "35700/35700 [==============================] - 20s 550us/step - loss: 0.0110 - acc: 0.9979 - val_loss: 0.0535 - val_acc: 0.9938\n",
      "Epoch 17/40\n",
      "35700/35700 [==============================] - 20s 552us/step - loss: 0.0095 - acc: 0.9983 - val_loss: 0.0492 - val_acc: 0.9944\n",
      "\n",
      "Epoch 00017: ReduceLROnPlateau reducing learning rate to 0.0003600000170990825.\n",
      "Epoch 18/40\n",
      "35700/35700 [==============================] - 20s 570us/step - loss: 0.0053 - acc: 0.9989 - val_loss: 0.0502 - val_acc: 0.9938\n",
      "Epoch 19/40\n",
      " 7264/35700 [=====>........................] - ETA: 15s - loss: 0.0051 - acc: 0.9989"
     ]
    }
   ],
   "source": [
    "model.fit(train_data, train_target, validation_split = 0.15, epochs = 40, callbacks = [learning_rate_reduction] )"
   ]
  },
  {
   "cell_type": "code",
   "execution_count": 6,
   "metadata": {},
   "outputs": [],
   "source": [
    "results = model.predict(test_data)\n",
    "results = np.argmax(results,axis = 1)\n",
    "results = pd.Series(results,name=\"Label\")\n",
    "submission = pd.concat([pd.Series(range(1,28001),name = \"ImageId\"),results],axis = 1)\n",
    "submission.to_csv(\"digit_recognizer_submission_3.csv\",index=False)"
   ]
  },
  {
   "cell_type": "code",
   "execution_count": 7,
   "metadata": {},
   "outputs": [],
   "source": []
  }
 ],
 "metadata": {
  "kernelspec": {
   "display_name": "Python 3",
   "language": "python",
   "name": "python3"
  },
  "language_info": {
   "codemirror_mode": {
    "name": "ipython",
    "version": 3
   },
   "file_extension": ".py",
   "mimetype": "text/x-python",
   "name": "python",
   "nbconvert_exporter": "python",
   "pygments_lexer": "ipython3",
   "version": "3.7.6"
  }
 },
 "nbformat": 4,
 "nbformat_minor": 1
}
